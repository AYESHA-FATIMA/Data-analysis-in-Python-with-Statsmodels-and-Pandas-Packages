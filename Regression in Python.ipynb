{
 "cells": [
  {
   "cell_type": "code",
   "execution_count": 14,
   "metadata": {},
   "outputs": [],
   "source": [
    "import statsmodels.formula.api as smf\n",
    "import pandas as pd"
   ]
  },
  {
   "cell_type": "code",
   "execution_count": 15,
   "metadata": {},
   "outputs": [
    {
     "name": "stderr",
     "output_type": "stream",
     "text": [
      "C:\\Users\\Ayesha Fatima\\Anaconda3\\lib\\site-packages\\ipykernel_launcher.py:1: FutureWarning: from_csv is deprecated. Please use read_csv(...) instead. Note that some of the default arguments are different, so please refer to the documentation for from_csv when changing your function calls\n",
      "  \"\"\"Entry point for launching an IPython kernel.\n"
     ]
    }
   ],
   "source": [
    "winning = pd.DataFrame.from_csv(\"Winning time.csv\")\n",
    "winning.reset_index(level =0, inplace = True)\n",
    "winning.columns = ['Game', 'Year', 'Wtm']\n",
    "\n"
   ]
  },
  {
   "cell_type": "code",
   "execution_count": 16,
   "metadata": {},
   "outputs": [
    {
     "data": {
      "text/html": [
       "<div>\n",
       "<style scoped>\n",
       "    .dataframe tbody tr th:only-of-type {\n",
       "        vertical-align: middle;\n",
       "    }\n",
       "\n",
       "    .dataframe tbody tr th {\n",
       "        vertical-align: top;\n",
       "    }\n",
       "\n",
       "    .dataframe thead th {\n",
       "        text-align: right;\n",
       "    }\n",
       "</style>\n",
       "<table border=\"1\" class=\"dataframe\">\n",
       "  <thead>\n",
       "    <tr style=\"text-align: right;\">\n",
       "      <th></th>\n",
       "      <th>Game</th>\n",
       "      <th>Year</th>\n",
       "      <th>Wtm</th>\n",
       "    </tr>\n",
       "  </thead>\n",
       "  <tbody>\n",
       "    <tr>\n",
       "      <th>0</th>\n",
       "      <td>1</td>\n",
       "      <td>1948</td>\n",
       "      <td>10.30</td>\n",
       "    </tr>\n",
       "    <tr>\n",
       "      <th>1</th>\n",
       "      <td>2</td>\n",
       "      <td>1952</td>\n",
       "      <td>10.40</td>\n",
       "    </tr>\n",
       "    <tr>\n",
       "      <th>2</th>\n",
       "      <td>3</td>\n",
       "      <td>1956</td>\n",
       "      <td>10.50</td>\n",
       "    </tr>\n",
       "    <tr>\n",
       "      <th>3</th>\n",
       "      <td>4</td>\n",
       "      <td>1960</td>\n",
       "      <td>10.20</td>\n",
       "    </tr>\n",
       "    <tr>\n",
       "      <th>4</th>\n",
       "      <td>5</td>\n",
       "      <td>1964</td>\n",
       "      <td>10.00</td>\n",
       "    </tr>\n",
       "    <tr>\n",
       "      <th>5</th>\n",
       "      <td>6</td>\n",
       "      <td>1968</td>\n",
       "      <td>9.95</td>\n",
       "    </tr>\n",
       "    <tr>\n",
       "      <th>6</th>\n",
       "      <td>7</td>\n",
       "      <td>1972</td>\n",
       "      <td>10.14</td>\n",
       "    </tr>\n",
       "    <tr>\n",
       "      <th>7</th>\n",
       "      <td>8</td>\n",
       "      <td>1976</td>\n",
       "      <td>10.06</td>\n",
       "    </tr>\n",
       "    <tr>\n",
       "      <th>8</th>\n",
       "      <td>9</td>\n",
       "      <td>1980</td>\n",
       "      <td>10.25</td>\n",
       "    </tr>\n",
       "    <tr>\n",
       "      <th>9</th>\n",
       "      <td>10</td>\n",
       "      <td>1984</td>\n",
       "      <td>9.99</td>\n",
       "    </tr>\n",
       "    <tr>\n",
       "      <th>10</th>\n",
       "      <td>11</td>\n",
       "      <td>1988</td>\n",
       "      <td>9.92</td>\n",
       "    </tr>\n",
       "    <tr>\n",
       "      <th>11</th>\n",
       "      <td>12</td>\n",
       "      <td>1992</td>\n",
       "      <td>9.96</td>\n",
       "    </tr>\n",
       "    <tr>\n",
       "      <th>12</th>\n",
       "      <td>13</td>\n",
       "      <td>1996</td>\n",
       "      <td>9.84</td>\n",
       "    </tr>\n",
       "    <tr>\n",
       "      <th>13</th>\n",
       "      <td>14</td>\n",
       "      <td>2000</td>\n",
       "      <td>9.87</td>\n",
       "    </tr>\n",
       "    <tr>\n",
       "      <th>14</th>\n",
       "      <td>15</td>\n",
       "      <td>2004</td>\n",
       "      <td>9.85</td>\n",
       "    </tr>\n",
       "  </tbody>\n",
       "</table>\n",
       "</div>"
      ],
      "text/plain": [
       "    Game  Year    Wtm\n",
       "0      1  1948  10.30\n",
       "1      2  1952  10.40\n",
       "2      3  1956  10.50\n",
       "3      4  1960  10.20\n",
       "4      5  1964  10.00\n",
       "5      6  1968   9.95\n",
       "6      7  1972  10.14\n",
       "7      8  1976  10.06\n",
       "8      9  1980  10.25\n",
       "9     10  1984   9.99\n",
       "10    11  1988   9.92\n",
       "11    12  1992   9.96\n",
       "12    13  1996   9.84\n",
       "13    14  2000   9.87\n",
       "14    15  2004   9.85"
      ]
     },
     "execution_count": 16,
     "metadata": {},
     "output_type": "execute_result"
    }
   ],
   "source": [
    "winning\n"
   ]
  },
  {
   "cell_type": "code",
   "execution_count": 22,
   "metadata": {},
   "outputs": [
    {
     "name": "stdout",
     "output_type": "stream",
     "text": [
      "10.386000000000005 -0.038000000000000256\n"
     ]
    }
   ],
   "source": [
    "formula = 'Wtm~Game'\n",
    "model = smf.ols(formula = formula, data = winning).fit()\n",
    "a = model.params[0]\n",
    "b = model.params[1]\n",
    "winning['guess']=a + b*winning['Game']\n",
    "print(a,b)"
   ]
  },
  {
   "cell_type": "code",
   "execution_count": 21,
   "metadata": {
    "scrolled": true
   },
   "outputs": [
    {
     "name": "stdout",
     "output_type": "stream",
     "text": [
      "                            OLS Regression Results                            \n",
      "==============================================================================\n",
      "Dep. Variable:                    Wtm   R-squared:                       0.673\n",
      "Model:                            OLS   Adj. R-squared:                  0.648\n",
      "Method:                 Least Squares   F-statistic:                     26.80\n",
      "Date:                Fri, 07 Jun 2019   Prob (F-statistic):           0.000178\n",
      "Time:                        00:32:34   Log-Likelihood:                 11.244\n",
      "No. Observations:                  15   AIC:                            -18.49\n",
      "Df Residuals:                      13   BIC:                            -17.07\n",
      "Df Model:                           1                                         \n",
      "Covariance Type:            nonrobust                                         \n",
      "==============================================================================\n",
      "                 coef    std err          t      P>|t|      [0.025      0.975]\n",
      "------------------------------------------------------------------------------\n",
      "Intercept     10.3860      0.067    155.623      0.000      10.242      10.530\n",
      "Game          -0.0380      0.007     -5.177      0.000      -0.054      -0.022\n",
      "==============================================================================\n",
      "Omnibus:                        0.799   Durbin-Watson:                   1.565\n",
      "Prob(Omnibus):                  0.671   Jarque-Bera (JB):                0.105\n",
      "Skew:                           0.199   Prob(JB):                        0.949\n",
      "Kurtosis:                       3.096   Cond. No.                         19.3\n",
      "==============================================================================\n",
      "\n",
      "Warnings:\n",
      "[1] Standard Errors assume that the covariance matrix of the errors is correctly specified.\n"
     ]
    },
    {
     "name": "stderr",
     "output_type": "stream",
     "text": [
      "C:\\Users\\Ayesha Fatima\\Anaconda3\\lib\\site-packages\\scipy\\stats\\stats.py:1416: UserWarning: kurtosistest only valid for n>=20 ... continuing anyway, n=15\n",
      "  \"anyway, n=%i\" % int(n))\n"
     ]
    }
   ],
   "source": [
    "print(model.summary())"
   ]
  },
  {
   "cell_type": "code",
   "execution_count": 23,
   "metadata": {},
   "outputs": [
    {
     "data": {
      "text/plain": [
       "0    -0.048\n",
       "1     0.090\n",
       "2     0.228\n",
       "3    -0.034\n",
       "4    -0.196\n",
       "5    -0.208\n",
       "6     0.020\n",
       "7    -0.022\n",
       "8     0.206\n",
       "9    -0.016\n",
       "10   -0.048\n",
       "11    0.030\n",
       "12   -0.052\n",
       "13    0.016\n",
       "14    0.034\n",
       "Name: error, dtype: float64"
      ]
     },
     "execution_count": 23,
     "metadata": {},
     "output_type": "execute_result"
    }
   ],
   "source": [
    "winning['error']= winning['Wtm']-a - b*winning['Game']\n",
    "winning['error']"
   ]
  },
  {
   "cell_type": "code",
   "execution_count": 28,
   "metadata": {},
   "outputs": [
    {
     "data": {
      "text/plain": [
       "1.0346127617504142e-14"
      ]
     },
     "execution_count": 28,
     "metadata": {},
     "output_type": "execute_result"
    }
   ],
   "source": [
    "value = winning['Game'].count()\n",
    "sums = (winning['error'].sum())**2\n",
    "s = ((1/(value -2))*sums)**0.5\n",
    "s"
   ]
  },
  {
   "cell_type": "code",
   "execution_count": 29,
   "metadata": {
    "scrolled": true
   },
   "outputs": [
    {
     "name": "stdout",
     "output_type": "stream",
     "text": [
      "0     0.218\n",
      "1     0.318\n",
      "2     0.418\n",
      "3     0.118\n",
      "4    -0.082\n",
      "5    -0.132\n",
      "6     0.058\n",
      "7    -0.022\n",
      "8     0.168\n",
      "9    -0.092\n",
      "10   -0.162\n",
      "11   -0.122\n",
      "12   -0.242\n",
      "13   -0.212\n",
      "14   -0.232\n",
      "Name: Wdmeaned, dtype: float64 0    -7.0\n",
      "1    -6.0\n",
      "2    -5.0\n",
      "3    -4.0\n",
      "4    -3.0\n",
      "5    -2.0\n",
      "6    -1.0\n",
      "7     0.0\n",
      "8     1.0\n",
      "9     2.0\n",
      "10    3.0\n",
      "11    4.0\n",
      "12    5.0\n",
      "13    6.0\n",
      "14    7.0\n",
      "Name: Gdmeaned, dtype: float64\n"
     ]
    }
   ],
   "source": [
    "wmean= winning['Wtm'].mean()\n",
    "gmean = winning['Game'].mean()\n",
    "winning['Wdmeaned']= winning['Wtm']-wmean\n",
    "winning['Gdmeaned']=winning['Game']-gmean\n",
    "print(winning['Wdmeaned'], winning['Gdmeaned'])"
   ]
  },
  {
   "cell_type": "code",
   "execution_count": 30,
   "metadata": {},
   "outputs": [
    {
     "name": "stdout",
     "output_type": "stream",
     "text": [
      "0.40432000000000545 0.19612000000000038 0.6004400000000059\n"
     ]
    }
   ],
   "source": [
    "sse = (b**2)*(((winning['Game']-gmean))**2).sum()\n",
    "ssr = (winning['error']**2).sum()\n",
    "sst = sse + ssr\n",
    "print(sse,ssr,sst)"
   ]
  },
  {
   "cell_type": "code",
   "execution_count": 31,
   "metadata": {},
   "outputs": [
    {
     "name": "stdout",
     "output_type": "stream",
     "text": [
      "0.6733728599027405\n"
     ]
    }
   ],
   "source": [
    "rsquare = 1-ssr/sst\n",
    "print(rsquare)"
   ]
  }
 ],
 "metadata": {
  "kernelspec": {
   "display_name": "Python 3",
   "language": "python",
   "name": "python3"
  },
  "language_info": {
   "codemirror_mode": {
    "name": "ipython",
    "version": 3
   },
   "file_extension": ".py",
   "mimetype": "text/x-python",
   "name": "python",
   "nbconvert_exporter": "python",
   "pygments_lexer": "ipython3",
   "version": "3.7.3"
  }
 },
 "nbformat": 4,
 "nbformat_minor": 2
}
